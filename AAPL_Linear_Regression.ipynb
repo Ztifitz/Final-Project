{
 "cells": [
  {
   "cell_type": "markdown",
   "id": "d09517d8",
   "metadata": {},
   "source": [
    "# AAPL (APPLE STOCKS)"
   ]
  },
  {
   "cell_type": "code",
   "execution_count": 1,
   "id": "5e84f46d",
   "metadata": {},
   "outputs": [],
   "source": [
    "#!pip install regex\n",
    "#!pip install pandas-ta\n",
    "#!pip install yfinance\n"
   ]
  },
  {
   "cell_type": "code",
   "execution_count": 2,
   "id": "1723ee20",
   "metadata": {},
   "outputs": [],
   "source": [
    "# Import our dependencies\n",
    "from sklearn.model_selection import train_test_split\n",
    "from sklearn.preprocessing import StandardScaler\n",
    "from sklearn.linear_model import LogisticRegression\n",
    "from sklearn.metrics import accuracy_score\n",
    "import pandas as pd\n",
    "import tensorflow as tf\n",
    "\n",
    "import matplotlib as plt\n",
    "from sklearn.datasets import make_blobs\n",
    "import sklearn as skl\n",
    "import tensorflow as tf\n",
    "import matplotlib.pyplot as plt\n",
    "import yfinance as yf\n",
    "import statistics\n",
    "import time\n",
    "import datetime\n",
    "import numpy as np"
   ]
  },
  {
   "cell_type": "markdown",
   "id": "e2a96ec0",
   "metadata": {},
   "source": [
    "# Step 1: Get Historic Pricing Data"
   ]
  },
  {
   "cell_type": "code",
   "execution_count": 3,
   "id": "bc59e414",
   "metadata": {},
   "outputs": [
    {
     "name": "stdout",
     "output_type": "stream",
     "text": [
      "[*********************100%***********************]  1 of 1 completed\n"
     ]
    },
    {
     "data": {
      "text/html": [
       "<div>\n",
       "<style scoped>\n",
       "    .dataframe tbody tr th:only-of-type {\n",
       "        vertical-align: middle;\n",
       "    }\n",
       "\n",
       "    .dataframe tbody tr th {\n",
       "        vertical-align: top;\n",
       "    }\n",
       "\n",
       "    .dataframe thead th {\n",
       "        text-align: right;\n",
       "    }\n",
       "</style>\n",
       "<table border=\"1\" class=\"dataframe\">\n",
       "  <thead>\n",
       "    <tr style=\"text-align: right;\">\n",
       "      <th></th>\n",
       "      <th>Open</th>\n",
       "      <th>High</th>\n",
       "      <th>Low</th>\n",
       "      <th>Close</th>\n",
       "      <th>Adj Close</th>\n",
       "      <th>Volume</th>\n",
       "    </tr>\n",
       "    <tr>\n",
       "      <th>Date</th>\n",
       "      <th></th>\n",
       "      <th></th>\n",
       "      <th></th>\n",
       "      <th></th>\n",
       "      <th></th>\n",
       "      <th></th>\n",
       "    </tr>\n",
       "  </thead>\n",
       "  <tbody>\n",
       "    <tr>\n",
       "      <th>2021-08-16</th>\n",
       "      <td>148.539993</td>\n",
       "      <td>151.190002</td>\n",
       "      <td>146.470001</td>\n",
       "      <td>151.119995</td>\n",
       "      <td>150.277908</td>\n",
       "      <td>103296000</td>\n",
       "    </tr>\n",
       "    <tr>\n",
       "      <th>2021-08-17</th>\n",
       "      <td>150.229996</td>\n",
       "      <td>151.679993</td>\n",
       "      <td>149.089996</td>\n",
       "      <td>150.190002</td>\n",
       "      <td>149.353104</td>\n",
       "      <td>92229700</td>\n",
       "    </tr>\n",
       "    <tr>\n",
       "      <th>2021-08-18</th>\n",
       "      <td>149.800003</td>\n",
       "      <td>150.720001</td>\n",
       "      <td>146.149994</td>\n",
       "      <td>146.360001</td>\n",
       "      <td>145.544434</td>\n",
       "      <td>86326000</td>\n",
       "    </tr>\n",
       "    <tr>\n",
       "      <th>2021-08-19</th>\n",
       "      <td>145.029999</td>\n",
       "      <td>148.000000</td>\n",
       "      <td>144.500000</td>\n",
       "      <td>146.699997</td>\n",
       "      <td>145.882523</td>\n",
       "      <td>86960300</td>\n",
       "    </tr>\n",
       "    <tr>\n",
       "      <th>2021-08-20</th>\n",
       "      <td>147.440002</td>\n",
       "      <td>148.500000</td>\n",
       "      <td>146.779999</td>\n",
       "      <td>148.190002</td>\n",
       "      <td>147.364227</td>\n",
       "      <td>60549600</td>\n",
       "    </tr>\n",
       "    <tr>\n",
       "      <th>2021-08-23</th>\n",
       "      <td>148.309998</td>\n",
       "      <td>150.190002</td>\n",
       "      <td>147.889999</td>\n",
       "      <td>149.710007</td>\n",
       "      <td>148.875778</td>\n",
       "      <td>60131800</td>\n",
       "    </tr>\n",
       "    <tr>\n",
       "      <th>2021-08-24</th>\n",
       "      <td>149.449997</td>\n",
       "      <td>150.860001</td>\n",
       "      <td>149.149994</td>\n",
       "      <td>149.619995</td>\n",
       "      <td>148.786255</td>\n",
       "      <td>48606400</td>\n",
       "    </tr>\n",
       "    <tr>\n",
       "      <th>2021-08-25</th>\n",
       "      <td>149.809998</td>\n",
       "      <td>150.320007</td>\n",
       "      <td>147.800003</td>\n",
       "      <td>148.360001</td>\n",
       "      <td>147.533279</td>\n",
       "      <td>58991300</td>\n",
       "    </tr>\n",
       "    <tr>\n",
       "      <th>2021-08-26</th>\n",
       "      <td>148.350006</td>\n",
       "      <td>149.119995</td>\n",
       "      <td>147.509995</td>\n",
       "      <td>147.539993</td>\n",
       "      <td>146.717865</td>\n",
       "      <td>48597200</td>\n",
       "    </tr>\n",
       "    <tr>\n",
       "      <th>2021-08-27</th>\n",
       "      <td>147.479996</td>\n",
       "      <td>148.750000</td>\n",
       "      <td>146.830002</td>\n",
       "      <td>148.600006</td>\n",
       "      <td>147.771957</td>\n",
       "      <td>55802400</td>\n",
       "    </tr>\n",
       "    <tr>\n",
       "      <th>2021-08-30</th>\n",
       "      <td>149.000000</td>\n",
       "      <td>153.490005</td>\n",
       "      <td>148.610001</td>\n",
       "      <td>153.119995</td>\n",
       "      <td>152.266769</td>\n",
       "      <td>90956700</td>\n",
       "    </tr>\n",
       "    <tr>\n",
       "      <th>2021-08-31</th>\n",
       "      <td>152.660004</td>\n",
       "      <td>152.800003</td>\n",
       "      <td>151.289993</td>\n",
       "      <td>151.830002</td>\n",
       "      <td>150.983963</td>\n",
       "      <td>86453100</td>\n",
       "    </tr>\n",
       "    <tr>\n",
       "      <th>2021-09-01</th>\n",
       "      <td>152.830002</td>\n",
       "      <td>154.979996</td>\n",
       "      <td>152.339996</td>\n",
       "      <td>152.509995</td>\n",
       "      <td>151.660156</td>\n",
       "      <td>80313700</td>\n",
       "    </tr>\n",
       "    <tr>\n",
       "      <th>2021-09-02</th>\n",
       "      <td>153.869995</td>\n",
       "      <td>154.720001</td>\n",
       "      <td>152.399994</td>\n",
       "      <td>153.649994</td>\n",
       "      <td>152.793808</td>\n",
       "      <td>71115500</td>\n",
       "    </tr>\n",
       "    <tr>\n",
       "      <th>2021-09-03</th>\n",
       "      <td>153.759995</td>\n",
       "      <td>154.630005</td>\n",
       "      <td>153.089996</td>\n",
       "      <td>154.300003</td>\n",
       "      <td>153.440186</td>\n",
       "      <td>57808700</td>\n",
       "    </tr>\n",
       "  </tbody>\n",
       "</table>\n",
       "</div>"
      ],
      "text/plain": [
       "                  Open        High         Low       Close   Adj Close  \\\n",
       "Date                                                                     \n",
       "2021-08-16  148.539993  151.190002  146.470001  151.119995  150.277908   \n",
       "2021-08-17  150.229996  151.679993  149.089996  150.190002  149.353104   \n",
       "2021-08-18  149.800003  150.720001  146.149994  146.360001  145.544434   \n",
       "2021-08-19  145.029999  148.000000  144.500000  146.699997  145.882523   \n",
       "2021-08-20  147.440002  148.500000  146.779999  148.190002  147.364227   \n",
       "2021-08-23  148.309998  150.190002  147.889999  149.710007  148.875778   \n",
       "2021-08-24  149.449997  150.860001  149.149994  149.619995  148.786255   \n",
       "2021-08-25  149.809998  150.320007  147.800003  148.360001  147.533279   \n",
       "2021-08-26  148.350006  149.119995  147.509995  147.539993  146.717865   \n",
       "2021-08-27  147.479996  148.750000  146.830002  148.600006  147.771957   \n",
       "2021-08-30  149.000000  153.490005  148.610001  153.119995  152.266769   \n",
       "2021-08-31  152.660004  152.800003  151.289993  151.830002  150.983963   \n",
       "2021-09-01  152.830002  154.979996  152.339996  152.509995  151.660156   \n",
       "2021-09-02  153.869995  154.720001  152.399994  153.649994  152.793808   \n",
       "2021-09-03  153.759995  154.630005  153.089996  154.300003  153.440186   \n",
       "\n",
       "               Volume  \n",
       "Date                   \n",
       "2021-08-16  103296000  \n",
       "2021-08-17   92229700  \n",
       "2021-08-18   86326000  \n",
       "2021-08-19   86960300  \n",
       "2021-08-20   60549600  \n",
       "2021-08-23   60131800  \n",
       "2021-08-24   48606400  \n",
       "2021-08-25   58991300  \n",
       "2021-08-26   48597200  \n",
       "2021-08-27   55802400  \n",
       "2021-08-30   90956700  \n",
       "2021-08-31   86453100  \n",
       "2021-09-01   80313700  \n",
       "2021-09-02   71115500  \n",
       "2021-09-03   57808700  "
      ]
     },
     "execution_count": 3,
     "metadata": {},
     "output_type": "execute_result"
    }
   ],
   "source": [
    "# Importing data from an API\n",
    "# This data base is saved in a local driver in order to save time, it means not requiring\n",
    "# download data from the web each time we run the code, however we can analize any other date.\n",
    "df = yf.download('AAPL', start='2021-08-15', end='2022-08-15')\n",
    "df.head(15)\n",
    "\n"
   ]
  },
  {
   "cell_type": "code",
   "execution_count": 4,
   "id": "ef700ae8",
   "metadata": {},
   "outputs": [
    {
     "name": "stdout",
     "output_type": "stream",
     "text": [
      "           Date        Open        High         Low       Close   Adj Close  \\\n",
      "0    2021-08-16  148.539993  151.190002  146.470001  151.119995  150.277908   \n",
      "1    2021-08-17  150.229996  151.679993  149.089996  150.190002  149.353104   \n",
      "2    2021-08-18  149.800003  150.720001  146.149994  146.360001  145.544449   \n",
      "3    2021-08-19  145.029999  148.000000  144.500000  146.699997  145.882523   \n",
      "4    2021-08-20  147.440002  148.500000  146.779999  148.190002  147.364227   \n",
      "..          ...         ...         ...         ...         ...         ...   \n",
      "246  2022-08-08  166.369995  167.809998  164.199997  164.869995  164.869995   \n",
      "247  2022-08-09  164.020004  165.820007  163.250000  164.919998  164.919998   \n",
      "248  2022-08-10  167.679993  169.339996  166.899994  169.240005  169.240005   \n",
      "249  2022-08-11  170.059998  170.990005  168.190002  168.490005  168.490005   \n",
      "250  2022-08-12  169.820007  172.169998  169.399994  172.100006  172.100006   \n",
      "\n",
      "        Volume  \n",
      "0    103296000  \n",
      "1     92229700  \n",
      "2     86326000  \n",
      "3     86960300  \n",
      "4     60549600  \n",
      "..         ...  \n",
      "246   60276900  \n",
      "247   63135500  \n",
      "248   70170500  \n",
      "249   57149200  \n",
      "250   67946400  \n",
      "\n",
      "[251 rows x 7 columns]\n"
     ]
    }
   ],
   "source": [
    "# Download file in csv\n",
    "#aapl_df = df.to_csv(\"AAPL_data2.csv\")\n",
    "#aapl_df.head()\n",
    "\n",
    "# Load local .csv file as DataFrame\n",
    "df = pd.read_csv('Resources/AAPL_data.csv')\n",
    "# Inspect the data\n",
    "print(df)"
   ]
  },
  {
   "cell_type": "code",
   "execution_count": 5,
   "id": "579b5960",
   "metadata": {},
   "outputs": [
    {
     "name": "stdout",
     "output_type": "stream",
     "text": [
      "             Open        High         Low       Close   Adj Close  \\\n",
      "count  251.000000  251.000000  251.000000  251.000000  251.000000   \n",
      "mean   157.105179  159.129442  155.303426  157.320120  156.790447   \n",
      "std     12.541994   12.584989   12.376535   12.481311   12.438479   \n",
      "min    130.070007  132.389999  129.039993  130.059998  129.879593   \n",
      "25%    147.459999  149.059998  146.259995  147.894997  147.277618   \n",
      "50%    155.910004  158.229996  153.979996  156.770004  156.163788   \n",
      "75%    168.150002  170.325005  166.020004  167.529999  167.052170   \n",
      "max    182.630005  182.940002  179.119995  182.009995  181.259933   \n",
      "\n",
      "             Volume  \n",
      "count  2.510000e+02  \n",
      "mean   8.852741e+07  \n",
      "std    2.640506e+07  \n",
      "min    4.100000e+07  \n",
      "25%    6.953115e+07  \n",
      "50%    8.328130e+07  \n",
      "75%    1.011393e+08  \n",
      "max    1.954327e+08  \n"
     ]
    }
   ],
   "source": [
    "# Show some summary statistics\n",
    "print(df.describe())"
   ]
  },
  {
   "cell_type": "code",
   "execution_count": 6,
   "id": "28ea1ba8",
   "metadata": {},
   "outputs": [
    {
     "data": {
      "text/plain": [
       "251"
      ]
     },
     "execution_count": 6,
     "metadata": {},
     "output_type": "execute_result"
    }
   ],
   "source": [
    "len(df)"
   ]
  },
  {
   "cell_type": "markdown",
   "id": "a6328eb2",
   "metadata": {},
   "source": [
    "# Step 2: Prepare the data\n"
   ]
  },
  {
   "cell_type": "code",
   "execution_count": 7,
   "id": "4b85d86a",
   "metadata": {},
   "outputs": [],
   "source": [
    "# Keep only the 'Adj Close' Value\n",
    "tsla_df = df[['Adj Close']]"
   ]
  },
  {
   "cell_type": "code",
   "execution_count": 8,
   "id": "ab0cf8ab",
   "metadata": {},
   "outputs": [
    {
     "name": "stdout",
     "output_type": "stream",
     "text": [
      "      Adj Close\n",
      "0    150.277908\n",
      "1    149.353104\n",
      "2    145.544449\n",
      "3    145.882523\n",
      "4    147.364227\n",
      "..          ...\n",
      "246  164.869995\n",
      "247  164.919998\n",
      "248  169.240005\n",
      "249  168.490005\n",
      "250  172.100006\n",
      "\n",
      "[251 rows x 1 columns]\n"
     ]
    }
   ],
   "source": [
    "# Re-inspect data\n",
    "print(tsla_df)"
   ]
  },
  {
   "cell_type": "code",
   "execution_count": 9,
   "id": "08ff0a8a",
   "metadata": {},
   "outputs": [
    {
     "name": "stdout",
     "output_type": "stream",
     "text": [
      "<class 'pandas.core.frame.DataFrame'>\n",
      "RangeIndex: 251 entries, 0 to 250\n",
      "Data columns (total 1 columns):\n",
      " #   Column     Non-Null Count  Dtype  \n",
      "---  ------     --------------  -----  \n",
      " 0   Adj Close  251 non-null    float64\n",
      "dtypes: float64(1)\n",
      "memory usage: 2.1 KB\n",
      "None\n"
     ]
    }
   ],
   "source": [
    "# Print Info\n",
    "print(tsla_df.info())"
   ]
  },
  {
   "cell_type": "code",
   "execution_count": 95,
   "id": "48c9ddbd",
   "metadata": {},
   "outputs": [
    {
     "data": {
      "text/plain": [
       "Text(0, 0.5, 'Prices ($)')"
      ]
     },
     "execution_count": 95,
     "metadata": {},
     "output_type": "execute_result"
    },
    {
     "data": {
      "image/png": "[encoded data removed]",
      "text/plain": [
       "<Figure size 864x576 with 1 Axes>"
      ]
     },
     "metadata": {
      "needs_background": "light"
     },
     "output_type": "display_data"
    }
   ],
   "source": [
    "# Plotting the Adj Close columns\n",
    "#df.plot(figsize=(12,6), color=['green', 'black', 'blue'], title='Tesla stock', fontsize=12, marker=\".\", ylabel='Prices ($)',xlabel = 'Date')\n",
    "plt.figure(figsize=(12,8))\n",
    "plt.title('Stock Prices History')\n",
    "plt.plot(df['Adj Close'])\n",
    "plt.ylabel('Prices ($)')"
   ]
  },
  {
   "cell_type": "markdown",
   "id": "95d3b34f",
   "metadata": {},
   "source": [
    "# Step 3: Adding Technical Indicators"
   ]
  },
  {
   "cell_type": "code",
   "execution_count": 11,
   "id": "89d99635",
   "metadata": {},
   "outputs": [
    {
     "name": "stderr",
     "output_type": "stream",
     "text": [
      "/Users/Fabiola/opt/anaconda3/envs/mlenv/lib/python3.7/site-packages/pandas_ta/core.py:426: SettingWithCopyWarning: \n",
      "A value is trying to be set on a copy of a slice from a DataFrame.\n",
      "Try using .loc[row_indexer,col_indexer] = value instead\n",
      "\n",
      "See the caveats in the documentation: https://pandas.pydata.org/pandas-docs/stable/user_guide/indexing.html#returning-a-view-versus-a-copy\n",
      "  df[ind_name] = result\n"
     ]
    },
    {
     "data": {
      "text/plain": [
       "0             NaN\n",
       "1             NaN\n",
       "2             NaN\n",
       "3             NaN\n",
       "4             NaN\n",
       "          ...    \n",
       "246    161.342405\n",
       "247    161.992877\n",
       "248    163.310537\n",
       "249    164.252258\n",
       "250    165.679121\n",
       "Name: EMA_10, Length: 251, dtype: float64"
      ]
     },
     "execution_count": 11,
     "metadata": {},
     "output_type": "execute_result"
    }
   ],
   "source": [
    "import pandas_ta\n",
    "# Add EMA to dataframe by appending\n",
    "# Note: pandas_ta integrates seamlessly into\n",
    "# our existing dataframe\n",
    "tsla_df.ta.ema(close='Adj Close', length=10, append=True)"
   ]
  },
  {
   "cell_type": "code",
   "execution_count": 12,
   "id": "f9ab574c",
   "metadata": {},
   "outputs": [
    {
     "name": "stdout",
     "output_type": "stream",
     "text": [
      "[X] Ooops!!! It's True, the series 'adj_close' was not found in Adj Close, EMA_10\n"
     ]
    },
    {
     "data": {
      "text/html": [
       "<div>\n",
       "<style scoped>\n",
       "    .dataframe tbody tr th:only-of-type {\n",
       "        vertical-align: middle;\n",
       "    }\n",
       "\n",
       "    .dataframe tbody tr th {\n",
       "        vertical-align: top;\n",
       "    }\n",
       "\n",
       "    .dataframe thead th {\n",
       "        text-align: right;\n",
       "    }\n",
       "</style>\n",
       "<table border=\"1\" class=\"dataframe\">\n",
       "  <thead>\n",
       "    <tr style=\"text-align: right;\">\n",
       "      <th></th>\n",
       "      <th>Adj Close</th>\n",
       "      <th>EMA_10</th>\n",
       "    </tr>\n",
       "  </thead>\n",
       "  <tbody>\n",
       "    <tr>\n",
       "      <th>0</th>\n",
       "      <td>150.277908</td>\n",
       "      <td>NaN</td>\n",
       "    </tr>\n",
       "    <tr>\n",
       "      <th>1</th>\n",
       "      <td>149.353104</td>\n",
       "      <td>NaN</td>\n",
       "    </tr>\n",
       "    <tr>\n",
       "      <th>2</th>\n",
       "      <td>145.544449</td>\n",
       "      <td>NaN</td>\n",
       "    </tr>\n",
       "    <tr>\n",
       "      <th>3</th>\n",
       "      <td>145.882523</td>\n",
       "      <td>NaN</td>\n",
       "    </tr>\n",
       "    <tr>\n",
       "      <th>4</th>\n",
       "      <td>147.364227</td>\n",
       "      <td>NaN</td>\n",
       "    </tr>\n",
       "    <tr>\n",
       "      <th>...</th>\n",
       "      <td>...</td>\n",
       "      <td>...</td>\n",
       "    </tr>\n",
       "    <tr>\n",
       "      <th>246</th>\n",
       "      <td>164.869995</td>\n",
       "      <td>161.342405</td>\n",
       "    </tr>\n",
       "    <tr>\n",
       "      <th>247</th>\n",
       "      <td>164.919998</td>\n",
       "      <td>161.992877</td>\n",
       "    </tr>\n",
       "    <tr>\n",
       "      <th>248</th>\n",
       "      <td>169.240005</td>\n",
       "      <td>163.310537</td>\n",
       "    </tr>\n",
       "    <tr>\n",
       "      <th>249</th>\n",
       "      <td>168.490005</td>\n",
       "      <td>164.252258</td>\n",
       "    </tr>\n",
       "    <tr>\n",
       "      <th>250</th>\n",
       "      <td>172.100006</td>\n",
       "      <td>165.679121</td>\n",
       "    </tr>\n",
       "  </tbody>\n",
       "</table>\n",
       "<p>251 rows × 2 columns</p>\n",
       "</div>"
      ],
      "text/plain": [
       "      Adj Close      EMA_10\n",
       "0    150.277908         NaN\n",
       "1    149.353104         NaN\n",
       "2    145.544449         NaN\n",
       "3    145.882523         NaN\n",
       "4    147.364227         NaN\n",
       "..          ...         ...\n",
       "246  164.869995  161.342405\n",
       "247  164.919998  161.992877\n",
       "248  169.240005  163.310537\n",
       "249  168.490005  164.252258\n",
       "250  172.100006  165.679121\n",
       "\n",
       "[251 rows x 2 columns]"
      ]
     },
     "execution_count": 12,
     "metadata": {},
     "output_type": "execute_result"
    }
   ],
   "source": [
    "# Adding EMA_10 technical indicator\n",
    "tsla_df.ta.ema(close='adj_close', length=10, append=True)"
   ]
  },
  {
   "cell_type": "code",
   "execution_count": 13,
   "id": "453be754",
   "metadata": {},
   "outputs": [],
   "source": [
    "#Drop the first n-rows = 9\n",
    "tsla_df = tsla_df.iloc[9:]"
   ]
  },
  {
   "cell_type": "code",
   "execution_count": 14,
   "id": "8dfa2221",
   "metadata": {},
   "outputs": [
    {
     "data": {
      "text/plain": [
       "242"
      ]
     },
     "execution_count": 14,
     "metadata": {},
     "output_type": "execute_result"
    }
   ],
   "source": [
    "len(tsla_df)"
   ]
  },
  {
   "cell_type": "code",
   "execution_count": 15,
   "id": "2af1efec",
   "metadata": {},
   "outputs": [
    {
     "data": {
      "text/html": [
       "<div>\n",
       "<style scoped>\n",
       "    .dataframe tbody tr th:only-of-type {\n",
       "        vertical-align: middle;\n",
       "    }\n",
       "\n",
       "    .dataframe tbody tr th {\n",
       "        vertical-align: top;\n",
       "    }\n",
       "\n",
       "    .dataframe thead th {\n",
       "        text-align: right;\n",
       "    }\n",
       "</style>\n",
       "<table border=\"1\" class=\"dataframe\">\n",
       "  <thead>\n",
       "    <tr style=\"text-align: right;\">\n",
       "      <th></th>\n",
       "      <th>Adj Close</th>\n",
       "      <th>EMA_10</th>\n",
       "    </tr>\n",
       "  </thead>\n",
       "  <tbody>\n",
       "    <tr>\n",
       "      <th>9</th>\n",
       "      <td>147.771942</td>\n",
       "      <td>147.810733</td>\n",
       "    </tr>\n",
       "    <tr>\n",
       "      <th>10</th>\n",
       "      <td>152.266754</td>\n",
       "      <td>148.620919</td>\n",
       "    </tr>\n",
       "    <tr>\n",
       "      <th>11</th>\n",
       "      <td>150.983963</td>\n",
       "      <td>149.050563</td>\n",
       "    </tr>\n",
       "    <tr>\n",
       "      <th>12</th>\n",
       "      <td>151.660156</td>\n",
       "      <td>149.525035</td>\n",
       "    </tr>\n",
       "    <tr>\n",
       "      <th>13</th>\n",
       "      <td>152.793808</td>\n",
       "      <td>150.119357</td>\n",
       "    </tr>\n",
       "  </tbody>\n",
       "</table>\n",
       "</div>"
      ],
      "text/plain": [
       "     Adj Close      EMA_10\n",
       "9   147.771942  147.810733\n",
       "10  152.266754  148.620919\n",
       "11  150.983963  149.050563\n",
       "12  151.660156  149.525035\n",
       "13  152.793808  150.119357"
      ]
     },
     "execution_count": 15,
     "metadata": {},
     "output_type": "execute_result"
    }
   ],
   "source": [
    "# Checking the data\n",
    "tsla_df.head()"
   ]
  },
  {
   "cell_type": "code",
   "execution_count": 16,
   "id": "0fc7d8e0",
   "metadata": {},
   "outputs": [
    {
     "data": {
      "text/html": [
       "<div>\n",
       "<style scoped>\n",
       "    .dataframe tbody tr th:only-of-type {\n",
       "        vertical-align: middle;\n",
       "    }\n",
       "\n",
       "    .dataframe tbody tr th {\n",
       "        vertical-align: top;\n",
       "    }\n",
       "\n",
       "    .dataframe thead th {\n",
       "        text-align: right;\n",
       "    }\n",
       "</style>\n",
       "<table border=\"1\" class=\"dataframe\">\n",
       "  <thead>\n",
       "    <tr style=\"text-align: right;\">\n",
       "      <th></th>\n",
       "      <th>Adj Close</th>\n",
       "    </tr>\n",
       "  </thead>\n",
       "  <tbody>\n",
       "    <tr>\n",
       "      <th>9</th>\n",
       "      <td>147.771942</td>\n",
       "    </tr>\n",
       "    <tr>\n",
       "      <th>10</th>\n",
       "      <td>152.266754</td>\n",
       "    </tr>\n",
       "    <tr>\n",
       "      <th>11</th>\n",
       "      <td>150.983963</td>\n",
       "    </tr>\n",
       "    <tr>\n",
       "      <th>12</th>\n",
       "      <td>151.660156</td>\n",
       "    </tr>\n",
       "    <tr>\n",
       "      <th>13</th>\n",
       "      <td>152.793808</td>\n",
       "    </tr>\n",
       "  </tbody>\n",
       "</table>\n",
       "</div>"
      ],
      "text/plain": [
       "     Adj Close\n",
       "9   147.771942\n",
       "10  152.266754\n",
       "11  150.983963\n",
       "12  151.660156\n",
       "13  152.793808"
      ]
     },
     "execution_count": 16,
     "metadata": {},
     "output_type": "execute_result"
    }
   ],
   "source": [
    "# Selecting the Adj Close Column to plot and see data graphically\n",
    "tsla_df1 = tsla_df[['Adj Close']]\n",
    "tsla_df1.head()"
   ]
  },
  {
   "cell_type": "code",
   "execution_count": 74,
   "id": "daefe3c2",
   "metadata": {},
   "outputs": [
    {
     "data": {
      "text/plain": [
       "<AxesSubplot:title={'center':'Tesla stock and EMA'}>"
      ]
     },
     "execution_count": 74,
     "metadata": {},
     "output_type": "execute_result"
    },
    {
     "data": {
      "image/png": "[encoded data removed]",
      "text/plain": [
       "<Figure size 576x432 with 1 Axes>"
      ]
     },
     "metadata": {
      "needs_background": "light"
     },
     "output_type": "display_data"
    }
   ],
   "source": [
    "tsla_df.plot(figsize=(8,6), color=['Blue','Green'], title='Tesla stock and EMA', fontsize=10)"
   ]
  },
  {
   "cell_type": "markdown",
   "id": "5d224796",
   "metadata": {},
   "source": [
    "# Step 4: Test-Train Split"
   ]
  },
  {
   "cell_type": "code",
   "execution_count": 18,
   "id": "b1201c10",
   "metadata": {},
   "outputs": [],
   "source": [
    "# Split data into testing and training sets\n",
    "X_train, X_test, y_train, y_test = train_test_split(tsla_df[['Adj Close']], tsla_df[['EMA_10']], test_size=.30, random_state= 0)\n"
   ]
  },
  {
   "cell_type": "code",
   "execution_count": 19,
   "id": "80c19359",
   "metadata": {},
   "outputs": [
    {
     "name": "stdout",
     "output_type": "stream",
     "text": [
      "        Adj Close\n",
      "count   73.000000\n",
      "mean   159.452763\n",
      "std     12.914857\n",
      "min    131.377502\n",
      "25%    148.428253\n",
      "50%    159.031921\n",
      "75%    172.100006\n",
      "max    179.586868\n"
     ]
    }
   ],
   "source": [
    "# Tests set\n",
    "print(X_test.describe())\n"
   ]
  },
  {
   "cell_type": "code",
   "execution_count": 20,
   "id": "871db810",
   "metadata": {},
   "outputs": [
    {
     "name": "stdout",
     "output_type": "stream",
     "text": [
      "        Adj Close\n",
      "count  169.000000\n",
      "mean   156.118433\n",
      "std     12.279040\n",
      "min    129.879593\n",
      "25%    146.147003\n",
      "50%    155.816879\n",
      "75%    165.755875\n",
      "max    181.259933\n"
     ]
    }
   ],
   "source": [
    "# Training set 80% data\n",
    "print(X_train.describe())"
   ]
  },
  {
   "cell_type": "code",
   "execution_count": 21,
   "id": "93887187",
   "metadata": {},
   "outputs": [
    {
     "name": "stdout",
     "output_type": "stream",
     "text": [
      "           EMA_10\n",
      "count  169.000000\n",
      "mean   155.827228\n",
      "std     11.668843\n",
      "min    136.174076\n",
      "25%    146.283922\n",
      "50%    154.168999\n",
      "75%    165.718619\n",
      "max    176.968896\n"
     ]
    }
   ],
   "source": [
    "print(y_train.describe())"
   ]
  },
  {
   "cell_type": "code",
   "execution_count": 22,
   "id": "bb6426ab",
   "metadata": {},
   "outputs": [
    {
     "name": "stdout",
     "output_type": "stream",
     "text": [
      "           EMA_10\n",
      "count   73.000000\n",
      "mean   159.025977\n",
      "std     11.361159\n",
      "min    136.558344\n",
      "25%    147.957862\n",
      "50%    160.915506\n",
      "75%    169.018588\n",
      "max    177.330813\n"
     ]
    }
   ],
   "source": [
    "print(y_test.describe())"
   ]
  },
  {
   "cell_type": "markdown",
   "id": "55b84858",
   "metadata": {},
   "source": [
    "# Step 5: Training the Model"
   ]
  },
  {
   "cell_type": "code",
   "execution_count": 23,
   "id": "b5acf3e8",
   "metadata": {},
   "outputs": [
    {
     "name": "stdout",
     "output_type": "stream",
     "text": [
      "---0.004922151565551758 seconds to train---\n",
      "---0.002009153366088867 seconds to predict---\n"
     ]
    }
   ],
   "source": [
    "from sklearn.linear_model import LinearRegression\n",
    "# Create Regression Model\n",
    "model = LinearRegression()\n",
    "\n",
    "# To measure the time it takes to run the model\n",
    "start_time=time.time()\n",
    "\n",
    "# Train the model\n",
    "model.fit(X_train, y_train)\n",
    "\n",
    "\n",
    "# End of the measuring time\n",
    "#time.sleep(0)\n",
    "print(\"---%s seconds to train---\"%(time.time() - start_time))\n",
    "\n",
    "start_time=time.time()\n",
    "\n",
    "# Use model to make predictions\n",
    "y_pred = model.predict(X_test)\n",
    "\n",
    "# End of the measuring time\n",
    "#time.sleep(0)\n",
    "print(\"---%s seconds to predict---\"%(time.time() - start_time))"
   ]
  },
  {
   "cell_type": "code",
   "execution_count": 24,
   "id": "ef85f8f9",
   "metadata": {},
   "outputs": [
    {
     "data": {
      "text/plain": [
       "73"
      ]
     },
     "execution_count": 24,
     "metadata": {},
     "output_type": "execute_result"
    }
   ],
   "source": [
    "#y_pred = model.predict(X_test)\n",
    "y_pred = model.predict(X_test)\n",
    "len(y_pred)"
   ]
  },
  {
   "cell_type": "code",
   "execution_count": 25,
   "id": "ebbaec59",
   "metadata": {},
   "outputs": [
    {
     "data": {
      "text/plain": [
       "array([[170.28632378],\n",
       "       [172.0180233 ],\n",
       "       [148.90752015],\n",
       "       [171.56776083],\n",
       "       [172.92086861],\n",
       "       [172.23983187],\n",
       "       [162.78537723],\n",
       "       [176.15580001],\n",
       "       [169.5236895 ],\n",
       "       [148.301518  ],\n",
       "       [147.50178518],\n",
       "       [147.53773039],\n",
       "       [164.06843442],\n",
       "       [167.96247571],\n",
       "       [141.61620363],\n",
       "       [154.18079747],\n",
       "       [141.4724228 ],\n",
       "       [161.75353832],\n",
       "       [151.03313411],\n",
       "       [153.21152629],\n",
       "       [156.03809926]])"
      ]
     },
     "execution_count": 25,
     "metadata": {},
     "output_type": "execute_result"
    }
   ],
   "source": [
    "y_pred[:21]"
   ]
  },
  {
   "cell_type": "code",
   "execution_count": 26,
   "id": "b9df428f",
   "metadata": {},
   "outputs": [
    {
     "data": {
      "text/html": [
       "<div>\n",
       "<style scoped>\n",
       "    .dataframe tbody tr th:only-of-type {\n",
       "        vertical-align: middle;\n",
       "    }\n",
       "\n",
       "    .dataframe tbody tr th {\n",
       "        vertical-align: top;\n",
       "    }\n",
       "\n",
       "    .dataframe thead th {\n",
       "        text-align: right;\n",
       "    }\n",
       "</style>\n",
       "<table border=\"1\" class=\"dataframe\">\n",
       "  <thead>\n",
       "    <tr style=\"text-align: right;\">\n",
       "      <th></th>\n",
       "      <th>y_predict</th>\n",
       "    </tr>\n",
       "  </thead>\n",
       "  <tbody>\n",
       "    <tr>\n",
       "      <th>0</th>\n",
       "      <td>170.286324</td>\n",
       "    </tr>\n",
       "    <tr>\n",
       "      <th>1</th>\n",
       "      <td>172.018023</td>\n",
       "    </tr>\n",
       "    <tr>\n",
       "      <th>2</th>\n",
       "      <td>148.907520</td>\n",
       "    </tr>\n",
       "    <tr>\n",
       "      <th>3</th>\n",
       "      <td>171.567761</td>\n",
       "    </tr>\n",
       "    <tr>\n",
       "      <th>4</th>\n",
       "      <td>172.920869</td>\n",
       "    </tr>\n",
       "  </tbody>\n",
       "</table>\n",
       "</div>"
      ],
      "text/plain": [
       "    y_predict\n",
       "0  170.286324\n",
       "1  172.018023\n",
       "2  148.907520\n",
       "3  171.567761\n",
       "4  172.920869"
      ]
     },
     "execution_count": 26,
     "metadata": {},
     "output_type": "execute_result"
    }
   ],
   "source": [
    "# Converting y_pred array into a data frame: y_pred_df\n",
    "y_pred_df = y_pred\n",
    "y_pred_df = pd.DataFrame(y_pred_df, columns=['y_predict'])\n",
    "y_pred_df.head()"
   ]
  },
  {
   "cell_type": "markdown",
   "id": "ffd57b1a",
   "metadata": {},
   "source": [
    "# Step 6: Validating the Fit"
   ]
  },
  {
   "cell_type": "code",
   "execution_count": 27,
   "id": "f80cee4f",
   "metadata": {},
   "outputs": [
    {
     "name": "stdout",
     "output_type": "stream",
     "text": [
      "Mean Absolute Error: 3.6428416109101156\n",
      "Model Coefficients: [[0.89981098]]\n",
      "Coefficient of Determination R2: 0.8565606823852576\n",
      "Mean squarred_error: 18.260938496195195\n"
     ]
    }
   ],
   "source": [
    "# Homework -To plot the confidence intervals\n",
    "from sklearn.metrics import mean_squared_error, r2_score, mean_absolute_error\n",
    "# Printout relevant metrics\n",
    "\n",
    "print(\"Mean Absolute Error:\", mean_absolute_error(y_test, y_pred))\n",
    "print(\"Model Coefficients:\", model.coef_)\n",
    "print(\"Coefficient of Determination R2:\", r2_score(y_test, y_pred))\n",
    "\n",
    "print(\"Mean squarred_error:\", mean_squared_error(y_test, y_pred))\n"
   ]
  },
  {
   "cell_type": "markdown",
   "id": "efab0037",
   "metadata": {},
   "source": [
    "**MAE:** Mean of the absolute errors.-  Is the arithmetic mean of our model, it is calculated by summing the absolute difference between observed values of X and Y and dividing by the total number of observations.\n",
    "\n",
    "**Coefficient of Determination:** It tells how well the data fits the model (the goodness of fit).\n",
    "\n",
    "**Model Coefficients:** The output of the linear regression model.\n",
    "\n",
    "MAE. the lower the better.\n",
    "Coefficient Of determination: The closer to 1 the better."
   ]
  },
  {
   "cell_type": "markdown",
   "id": "9bcc2a92",
   "metadata": {},
   "source": [
    "### End"
   ]
  },
  {
   "cell_type": "code",
   "execution_count": null,
   "id": "4bb4f3c6",
   "metadata": {},
   "outputs": [],
   "source": []
  },
  {
   "cell_type": "markdown",
   "id": "5c7ea813",
   "metadata": {},
   "source": [
    "## Defining the data base to be used in Postgress\n",
    "### This data base was created just to visualize real Stock values vs Predicted values for one year."
   ]
  },
  {
   "cell_type": "code",
   "execution_count": 28,
   "id": "7fcc8033",
   "metadata": {},
   "outputs": [
    {
     "data": {
      "text/html": [
       "<div>\n",
       "<style scoped>\n",
       "    .dataframe tbody tr th:only-of-type {\n",
       "        vertical-align: middle;\n",
       "    }\n",
       "\n",
       "    .dataframe tbody tr th {\n",
       "        vertical-align: top;\n",
       "    }\n",
       "\n",
       "    .dataframe thead th {\n",
       "        text-align: right;\n",
       "    }\n",
       "</style>\n",
       "<table border=\"1\" class=\"dataframe\">\n",
       "  <thead>\n",
       "    <tr style=\"text-align: right;\">\n",
       "      <th></th>\n",
       "      <th>Date</th>\n",
       "    </tr>\n",
       "  </thead>\n",
       "  <tbody>\n",
       "    <tr>\n",
       "      <th>9</th>\n",
       "      <td>2021-08-27</td>\n",
       "    </tr>\n",
       "    <tr>\n",
       "      <th>10</th>\n",
       "      <td>2021-08-30</td>\n",
       "    </tr>\n",
       "    <tr>\n",
       "      <th>11</th>\n",
       "      <td>2021-08-31</td>\n",
       "    </tr>\n",
       "    <tr>\n",
       "      <th>12</th>\n",
       "      <td>2021-09-01</td>\n",
       "    </tr>\n",
       "    <tr>\n",
       "      <th>13</th>\n",
       "      <td>2021-09-02</td>\n",
       "    </tr>\n",
       "    <tr>\n",
       "      <th>...</th>\n",
       "      <td>...</td>\n",
       "    </tr>\n",
       "    <tr>\n",
       "      <th>246</th>\n",
       "      <td>2022-08-08</td>\n",
       "    </tr>\n",
       "    <tr>\n",
       "      <th>247</th>\n",
       "      <td>2022-08-09</td>\n",
       "    </tr>\n",
       "    <tr>\n",
       "      <th>248</th>\n",
       "      <td>2022-08-10</td>\n",
       "    </tr>\n",
       "    <tr>\n",
       "      <th>249</th>\n",
       "      <td>2022-08-11</td>\n",
       "    </tr>\n",
       "    <tr>\n",
       "      <th>250</th>\n",
       "      <td>2022-08-12</td>\n",
       "    </tr>\n",
       "  </tbody>\n",
       "</table>\n",
       "<p>242 rows × 1 columns</p>\n",
       "</div>"
      ],
      "text/plain": [
       "           Date\n",
       "9    2021-08-27\n",
       "10   2021-08-30\n",
       "11   2021-08-31\n",
       "12   2021-09-01\n",
       "13   2021-09-02\n",
       "..          ...\n",
       "246  2022-08-08\n",
       "247  2022-08-09\n",
       "248  2022-08-10\n",
       "249  2022-08-11\n",
       "250  2022-08-12\n",
       "\n",
       "[242 rows x 1 columns]"
      ]
     },
     "execution_count": 28,
     "metadata": {},
     "output_type": "execute_result"
    }
   ],
   "source": [
    "# Defining the data set to be converted to a csv file to be used in Postgress\n",
    "index = df[['Date']]\n",
    "index\n",
    "#tsla_df = tsla_df.iloc[9:]\n",
    "index = index.iloc[9:]\n",
    "index"
   ]
  },
  {
   "cell_type": "code",
   "execution_count": 29,
   "id": "59bd3f0c",
   "metadata": {},
   "outputs": [
    {
     "data": {
      "text/html": [
       "<div>\n",
       "<style scoped>\n",
       "    .dataframe tbody tr th:only-of-type {\n",
       "        vertical-align: middle;\n",
       "    }\n",
       "\n",
       "    .dataframe tbody tr th {\n",
       "        vertical-align: top;\n",
       "    }\n",
       "\n",
       "    .dataframe thead th {\n",
       "        text-align: right;\n",
       "    }\n",
       "</style>\n",
       "<table border=\"1\" class=\"dataframe\">\n",
       "  <thead>\n",
       "    <tr style=\"text-align: right;\">\n",
       "      <th></th>\n",
       "      <th>Adj Close</th>\n",
       "      <th>EMA_10</th>\n",
       "    </tr>\n",
       "  </thead>\n",
       "  <tbody>\n",
       "    <tr>\n",
       "      <th>9</th>\n",
       "      <td>147.771942</td>\n",
       "      <td>147.810733</td>\n",
       "    </tr>\n",
       "    <tr>\n",
       "      <th>10</th>\n",
       "      <td>152.266754</td>\n",
       "      <td>148.620919</td>\n",
       "    </tr>\n",
       "    <tr>\n",
       "      <th>11</th>\n",
       "      <td>150.983963</td>\n",
       "      <td>149.050563</td>\n",
       "    </tr>\n",
       "    <tr>\n",
       "      <th>12</th>\n",
       "      <td>151.660156</td>\n",
       "      <td>149.525035</td>\n",
       "    </tr>\n",
       "    <tr>\n",
       "      <th>13</th>\n",
       "      <td>152.793808</td>\n",
       "      <td>150.119357</td>\n",
       "    </tr>\n",
       "  </tbody>\n",
       "</table>\n",
       "</div>"
      ],
      "text/plain": [
       "     Adj Close      EMA_10\n",
       "9   147.771942  147.810733\n",
       "10  152.266754  148.620919\n",
       "11  150.983963  149.050563\n",
       "12  151.660156  149.525035\n",
       "13  152.793808  150.119357"
      ]
     },
     "execution_count": 29,
     "metadata": {},
     "output_type": "execute_result"
    }
   ],
   "source": [
    "# 1. Checking the data\n",
    "tsla_df.head()\n"
   ]
  },
  {
   "cell_type": "code",
   "execution_count": 30,
   "id": "4ac186b5",
   "metadata": {},
   "outputs": [
    {
     "data": {
      "text/html": [
       "<div>\n",
       "<style scoped>\n",
       "    .dataframe tbody tr th:only-of-type {\n",
       "        vertical-align: middle;\n",
       "    }\n",
       "\n",
       "    .dataframe tbody tr th {\n",
       "        vertical-align: top;\n",
       "    }\n",
       "\n",
       "    .dataframe thead th {\n",
       "        text-align: right;\n",
       "    }\n",
       "</style>\n",
       "<table border=\"1\" class=\"dataframe\">\n",
       "  <thead>\n",
       "    <tr style=\"text-align: right;\">\n",
       "      <th></th>\n",
       "      <th>Adj Close</th>\n",
       "    </tr>\n",
       "  </thead>\n",
       "  <tbody>\n",
       "    <tr>\n",
       "      <th>9</th>\n",
       "      <td>147.771942</td>\n",
       "    </tr>\n",
       "    <tr>\n",
       "      <th>10</th>\n",
       "      <td>152.266754</td>\n",
       "    </tr>\n",
       "    <tr>\n",
       "      <th>11</th>\n",
       "      <td>150.983963</td>\n",
       "    </tr>\n",
       "    <tr>\n",
       "      <th>12</th>\n",
       "      <td>151.660156</td>\n",
       "    </tr>\n",
       "    <tr>\n",
       "      <th>13</th>\n",
       "      <td>152.793808</td>\n",
       "    </tr>\n",
       "  </tbody>\n",
       "</table>\n",
       "</div>"
      ],
      "text/plain": [
       "     Adj Close\n",
       "9   147.771942\n",
       "10  152.266754\n",
       "11  150.983963\n",
       "12  151.660156\n",
       "13  152.793808"
      ]
     },
     "execution_count": 30,
     "metadata": {},
     "output_type": "execute_result"
    }
   ],
   "source": [
    "# 2. Selecting the Adj Close column\n",
    "adjClose = tsla_df[['Adj Close']]\n",
    "adjClose.head()\n"
   ]
  },
  {
   "cell_type": "code",
   "execution_count": 31,
   "id": "28bb8965",
   "metadata": {},
   "outputs": [
    {
     "data": {
      "text/html": [
       "<div>\n",
       "<style scoped>\n",
       "    .dataframe tbody tr th:only-of-type {\n",
       "        vertical-align: middle;\n",
       "    }\n",
       "\n",
       "    .dataframe tbody tr th {\n",
       "        vertical-align: top;\n",
       "    }\n",
       "\n",
       "    .dataframe thead th {\n",
       "        text-align: right;\n",
       "    }\n",
       "</style>\n",
       "<table border=\"1\" class=\"dataframe\">\n",
       "  <thead>\n",
       "    <tr style=\"text-align: right;\">\n",
       "      <th></th>\n",
       "      <th>EMA_10</th>\n",
       "    </tr>\n",
       "  </thead>\n",
       "  <tbody>\n",
       "    <tr>\n",
       "      <th>9</th>\n",
       "      <td>147.810733</td>\n",
       "    </tr>\n",
       "    <tr>\n",
       "      <th>10</th>\n",
       "      <td>148.620919</td>\n",
       "    </tr>\n",
       "    <tr>\n",
       "      <th>11</th>\n",
       "      <td>149.050563</td>\n",
       "    </tr>\n",
       "    <tr>\n",
       "      <th>12</th>\n",
       "      <td>149.525035</td>\n",
       "    </tr>\n",
       "    <tr>\n",
       "      <th>13</th>\n",
       "      <td>150.119357</td>\n",
       "    </tr>\n",
       "  </tbody>\n",
       "</table>\n",
       "</div>"
      ],
      "text/plain": [
       "        EMA_10\n",
       "9   147.810733\n",
       "10  148.620919\n",
       "11  149.050563\n",
       "12  149.525035\n",
       "13  150.119357"
      ]
     },
     "execution_count": 31,
     "metadata": {},
     "output_type": "execute_result"
    }
   ],
   "source": [
    "# 3. Selecting the Technical indicator EMA_10\n",
    "ema = tsla_df[['EMA_10']]\n",
    "ema.head()"
   ]
  },
  {
   "cell_type": "code",
   "execution_count": 32,
   "id": "5e226e6c",
   "metadata": {},
   "outputs": [
    {
     "data": {
      "text/plain": [
       "LinearRegression()"
      ]
     },
     "execution_count": 32,
     "metadata": {},
     "output_type": "execute_result"
    }
   ],
   "source": [
    "# 4. Fiting the model for all the values\n",
    "model.fit(adjClose, ema)"
   ]
  },
  {
   "cell_type": "code",
   "execution_count": 33,
   "id": "0c7bfeb9",
   "metadata": {},
   "outputs": [],
   "source": [
    "## 5. Predicting values\n",
    "y_pred2 = model.predict(adjClose)"
   ]
  },
  {
   "cell_type": "code",
   "execution_count": 34,
   "id": "f999daf5",
   "metadata": {},
   "outputs": [
    {
     "data": {
      "text/plain": [
       "242"
      ]
     },
     "execution_count": 34,
     "metadata": {},
     "output_type": "execute_result"
    }
   ],
   "source": [
    "len(y_pred2)"
   ]
  },
  {
   "cell_type": "code",
   "execution_count": 35,
   "id": "48797c12",
   "metadata": {},
   "outputs": [
    {
     "data": {
      "text/html": [
       "<div>\n",
       "<style scoped>\n",
       "    .dataframe tbody tr th:only-of-type {\n",
       "        vertical-align: middle;\n",
       "    }\n",
       "\n",
       "    .dataframe tbody tr th {\n",
       "        vertical-align: top;\n",
       "    }\n",
       "\n",
       "    .dataframe thead th {\n",
       "        text-align: right;\n",
       "    }\n",
       "</style>\n",
       "<table border=\"1\" class=\"dataframe\">\n",
       "  <thead>\n",
       "    <tr style=\"text-align: right;\">\n",
       "      <th></th>\n",
       "      <th>Linear_Regression_prediction</th>\n",
       "    </tr>\n",
       "    <tr>\n",
       "      <th>Date</th>\n",
       "      <th></th>\n",
       "    </tr>\n",
       "  </thead>\n",
       "  <tbody>\n",
       "    <tr>\n",
       "      <th>2021-08-27</th>\n",
       "      <td>148.609806</td>\n",
       "    </tr>\n",
       "    <tr>\n",
       "      <th>2021-08-30</th>\n",
       "      <td>152.542320</td>\n",
       "    </tr>\n",
       "    <tr>\n",
       "      <th>2021-08-31</th>\n",
       "      <td>151.420005</td>\n",
       "    </tr>\n",
       "    <tr>\n",
       "      <th>2021-09-01</th>\n",
       "      <td>152.011607</td>\n",
       "    </tr>\n",
       "    <tr>\n",
       "      <th>2021-09-02</th>\n",
       "      <td>153.003440</td>\n",
       "    </tr>\n",
       "    <tr>\n",
       "      <th>...</th>\n",
       "      <td>...</td>\n",
       "    </tr>\n",
       "    <tr>\n",
       "      <th>2022-08-08</th>\n",
       "      <td>163.568903</td>\n",
       "    </tr>\n",
       "    <tr>\n",
       "      <th>2022-08-09</th>\n",
       "      <td>163.612651</td>\n",
       "    </tr>\n",
       "    <tr>\n",
       "      <th>2022-08-10</th>\n",
       "      <td>167.392228</td>\n",
       "    </tr>\n",
       "    <tr>\n",
       "      <th>2022-08-11</th>\n",
       "      <td>166.736052</td>\n",
       "    </tr>\n",
       "    <tr>\n",
       "      <th>2022-08-12</th>\n",
       "      <td>169.894444</td>\n",
       "    </tr>\n",
       "  </tbody>\n",
       "</table>\n",
       "<p>242 rows × 1 columns</p>\n",
       "</div>"
      ],
      "text/plain": [
       "            Linear_Regression_prediction\n",
       "Date                                    \n",
       "2021-08-27                    148.609806\n",
       "2021-08-30                    152.542320\n",
       "2021-08-31                    151.420005\n",
       "2021-09-01                    152.011607\n",
       "2021-09-02                    153.003440\n",
       "...                                  ...\n",
       "2022-08-08                    163.568903\n",
       "2022-08-09                    163.612651\n",
       "2022-08-10                    167.392228\n",
       "2022-08-11                    166.736052\n",
       "2022-08-12                    169.894444\n",
       "\n",
       "[242 rows x 1 columns]"
      ]
     },
     "execution_count": 35,
     "metadata": {},
     "output_type": "execute_result"
    }
   ],
   "source": [
    "# Converting y_pred2 array into a data frame: y_pred_df\n",
    "y_pred_csv = y_pred2\n",
    "y_pred_csv = pd.DataFrame(y_pred2, columns=['Linear_Regression_prediction'], index = index['Date'])\n",
    "y_pred_csv"
   ]
  },
  {
   "cell_type": "code",
   "execution_count": 36,
   "id": "34ee576c",
   "metadata": {},
   "outputs": [],
   "source": [
    "# Creating the csv file\n",
    "y_pred = y_pred_csv.to_csv('LinearRegression1.csv')\n"
   ]
  },
  {
   "cell_type": "markdown",
   "id": "a1bacd6d",
   "metadata": {},
   "source": [
    "# End"
   ]
  },
  {
   "cell_type": "markdown",
   "id": "70ab8a18",
   "metadata": {},
   "source": [
    "## Comparision from real values Versus predicted values from 1 year"
   ]
  },
  {
   "cell_type": "code",
   "execution_count": 37,
   "id": "27820d7f",
   "metadata": {},
   "outputs": [
    {
     "data": {
      "text/plain": [
       "(         Date  Linear_Regression_prediction\n",
       " 0  2021-08-27                    148.609806\n",
       " 1  2021-08-30                    152.542320\n",
       " 2  2021-08-31                    151.420005\n",
       " 3  2021-09-01                    152.011607\n",
       " 4  2021-09-02                    153.003440,\n",
       " 242)"
      ]
     },
     "execution_count": 37,
     "metadata": {},
     "output_type": "execute_result"
    }
   ],
   "source": [
    "# Showing the Predicted values data frame\n",
    "y_pred_csv.head()\n",
    "\n",
    "y_pred_csv.reset_index(level=0, inplace=True)\n",
    "\n",
    "y_pred_csv.head() ,len(y_pred_csv)"
   ]
  },
  {
   "cell_type": "code",
   "execution_count": 61,
   "id": "da74f0ef",
   "metadata": {},
   "outputs": [
    {
     "data": {
      "text/html": [
       "<div>\n",
       "<style scoped>\n",
       "    .dataframe tbody tr th:only-of-type {\n",
       "        vertical-align: middle;\n",
       "    }\n",
       "\n",
       "    .dataframe tbody tr th {\n",
       "        vertical-align: top;\n",
       "    }\n",
       "\n",
       "    .dataframe thead th {\n",
       "        text-align: right;\n",
       "    }\n",
       "</style>\n",
       "<table border=\"1\" class=\"dataframe\">\n",
       "  <thead>\n",
       "    <tr style=\"text-align: right;\">\n",
       "      <th></th>\n",
       "      <th>Adj Close</th>\n",
       "    </tr>\n",
       "  </thead>\n",
       "  <tbody>\n",
       "    <tr>\n",
       "      <th>9</th>\n",
       "      <td>147.771942</td>\n",
       "    </tr>\n",
       "    <tr>\n",
       "      <th>10</th>\n",
       "      <td>152.266754</td>\n",
       "    </tr>\n",
       "    <tr>\n",
       "      <th>11</th>\n",
       "      <td>150.983963</td>\n",
       "    </tr>\n",
       "    <tr>\n",
       "      <th>12</th>\n",
       "      <td>151.660156</td>\n",
       "    </tr>\n",
       "    <tr>\n",
       "      <th>13</th>\n",
       "      <td>152.793808</td>\n",
       "    </tr>\n",
       "  </tbody>\n",
       "</table>\n",
       "</div>"
      ],
      "text/plain": [
       "     Adj Close\n",
       "9   147.771942\n",
       "10  152.266754\n",
       "11  150.983963\n",
       "12  151.660156\n",
       "13  152.793808"
      ]
     },
     "execution_count": 61,
     "metadata": {},
     "output_type": "execute_result"
    }
   ],
   "source": [
    "# Selecting the Adj Close column form the original data base downloaded fron Yahoo Finance\n",
    "tsla_df2 = tsla_df[['Adj Close']]\n",
    "tsla_df2.head()\n",
    "len(y_pred_csv)"
   ]
  },
  {
   "cell_type": "code",
   "execution_count": 62,
   "id": "7af9e2df",
   "metadata": {},
   "outputs": [
    {
     "data": {
      "text/html": [
       "<div>\n",
       "<style scoped>\n",
       "    .dataframe tbody tr th:only-of-type {\n",
       "        vertical-align: middle;\n",
       "    }\n",
       "\n",
       "    .dataframe tbody tr th {\n",
       "        vertical-align: top;\n",
       "    }\n",
       "\n",
       "    .dataframe thead th {\n",
       "        text-align: right;\n",
       "    }\n",
       "</style>\n",
       "<table border=\"1\" class=\"dataframe\">\n",
       "  <thead>\n",
       "    <tr style=\"text-align: right;\">\n",
       "      <th></th>\n",
       "      <th>Date</th>\n",
       "      <th>Linear_Regression_prediction</th>\n",
       "      <th>Adj Close</th>\n",
       "    </tr>\n",
       "  </thead>\n",
       "  <tbody>\n",
       "    <tr>\n",
       "      <th>9</th>\n",
       "      <td>2021-09-10</td>\n",
       "      <td>148.931740</td>\n",
       "      <td>147.771942</td>\n",
       "    </tr>\n",
       "    <tr>\n",
       "      <th>10</th>\n",
       "      <td>2021-09-13</td>\n",
       "      <td>149.436340</td>\n",
       "      <td>152.266754</td>\n",
       "    </tr>\n",
       "    <tr>\n",
       "      <th>11</th>\n",
       "      <td>2021-09-14</td>\n",
       "      <td>148.192194</td>\n",
       "      <td>150.983963</td>\n",
       "    </tr>\n",
       "    <tr>\n",
       "      <th>12</th>\n",
       "      <td>2021-09-15</td>\n",
       "      <td>148.983925</td>\n",
       "      <td>151.660156</td>\n",
       "    </tr>\n",
       "    <tr>\n",
       "      <th>13</th>\n",
       "      <td>2021-09-16</td>\n",
       "      <td>148.775118</td>\n",
       "      <td>152.793808</td>\n",
       "    </tr>\n",
       "  </tbody>\n",
       "</table>\n",
       "</div>"
      ],
      "text/plain": [
       "          Date  Linear_Regression_prediction   Adj Close\n",
       "9   2021-09-10                    148.931740  147.771942\n",
       "10  2021-09-13                    149.436340  152.266754\n",
       "11  2021-09-14                    148.192194  150.983963\n",
       "12  2021-09-15                    148.983925  151.660156\n",
       "13  2021-09-16                    148.775118  152.793808"
      ]
     },
     "execution_count": 62,
     "metadata": {},
     "output_type": "execute_result"
    }
   ],
   "source": [
    "# Merging the data set oorinal (downloaded) and the predicted values to compare in a graph\n",
    "real_vs_pred = pd.merge(y_pred_csv,tsla_df2, \n",
    "                  left_index=True, \n",
    "                  right_index=True)\n",
    "\n",
    "real_vs_pred.head()"
   ]
  },
  {
   "cell_type": "code",
   "execution_count": 89,
   "id": "8a4e01ab",
   "metadata": {},
   "outputs": [
    {
     "data": {
      "text/plain": [
       "<AxesSubplot:title={'center':'Tesla Real stock Vs Linear Regression Prediction'}>"
      ]
     },
     "execution_count": 89,
     "metadata": {},
     "output_type": "execute_result"
    },
    {
     "data": {
      "image/png": "[encoded data removed]",
      "text/plain": [
       "<Figure size 1008x432 with 1 Axes>"
      ]
     },
     "metadata": {
      "needs_background": "light"
     },
     "output_type": "display_data"
    }
   ],
   "source": [
    "real_vs_pred.plot(figsize=(14,6), color=['Blue','Red'], title='Tesla Real stock Vs Linear Regression Prediction', fontsize=10)\n"
   ]
  },
  {
   "cell_type": "markdown",
   "id": "3457ef33",
   "metadata": {},
   "source": [
    "# End"
   ]
  },
  {
   "cell_type": "code",
   "execution_count": null,
   "id": "cb7a376f",
   "metadata": {},
   "outputs": [],
   "source": []
  }
 ],
 "metadata": {
  "kernelspec": {
   "display_name": "mlenv",
   "language": "python",
   "name": "mlenv"
  },
  "language_info": {
   "codemirror_mode": {
    "name": "ipython",
    "version": 3
   },
   "file_extension": ".py",
   "mimetype": "text/x-python",
   "name": "python",
   "nbconvert_exporter": "python",
   "pygments_lexer": "ipython3",
   "version": "3.7.13"
  }
 },
 "nbformat": 4,
 "nbformat_minor": 5
}
