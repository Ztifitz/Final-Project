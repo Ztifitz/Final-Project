{
 "cells": [
  {
   "cell_type": "markdown",
   "id": "0fa57081",
   "metadata": {},
   "source": [
    "# AAPL (APPLE STOCKS) validated in one year"
   ]
  },
  {
   "cell_type": "code",
   "execution_count": 1,
   "id": "5e84f46d",
   "metadata": {},
   "outputs": [],
   "source": [
    "#!pip install regex\n",
    "#!pip install pandas-ta\n",
    "#!pip install yfinance"
   ]
  },
  {
   "cell_type": "code",
   "execution_count": 2,
   "id": "1723ee20",
   "metadata": {},
   "outputs": [],
   "source": [
    "# Import our dependencies\n",
    "from sklearn.model_selection import train_test_split\n",
    "from sklearn.preprocessing import StandardScaler\n",
    "from sklearn.linear_model import LogisticRegression\n",
    "from sklearn.metrics import accuracy_score\n",
    "import pandas as pd\n",
    "import tensorflow as tf\n",
    "\n",
    "import matplotlib as plt\n",
    "from sklearn.datasets import make_blobs\n",
    "import sklearn as skl\n",
    "import tensorflow as tf\n",
    "import matplotlib.pyplot as plt\n",
    "import yfinance as yf"
   ]
  },
  {
   "cell_type": "markdown",
   "id": "e2a96ec0",
   "metadata": {},
   "source": [
    "# Step 1: Get Historic Pricing Data"
   ]
  },
  {
   "cell_type": "code",
   "execution_count": 3,
   "id": "bc59e414",
   "metadata": {},
   "outputs": [
    {
     "name": "stdout",
     "output_type": "stream",
     "text": [
      "[*********************100%***********************]  1 of 1 completed\n"
     ]
    },
    {
     "data": {
      "text/html": [
       "<div>\n",
       "<style scoped>\n",
       "    .dataframe tbody tr th:only-of-type {\n",
       "        vertical-align: middle;\n",
       "    }\n",
       "\n",
       "    .dataframe tbody tr th {\n",
       "        vertical-align: top;\n",
       "    }\n",
       "\n",
       "    .dataframe thead th {\n",
       "        text-align: right;\n",
       "    }\n",
       "</style>\n",
       "<table border=\"1\" class=\"dataframe\">\n",
       "  <thead>\n",
       "    <tr style=\"text-align: right;\">\n",
       "      <th></th>\n",
       "      <th>Open</th>\n",
       "      <th>High</th>\n",
       "      <th>Low</th>\n",
       "      <th>Close</th>\n",
       "      <th>Adj Close</th>\n",
       "      <th>Volume</th>\n",
       "    </tr>\n",
       "    <tr>\n",
       "      <th>Date</th>\n",
       "      <th></th>\n",
       "      <th></th>\n",
       "      <th></th>\n",
       "      <th></th>\n",
       "      <th></th>\n",
       "      <th></th>\n",
       "    </tr>\n",
       "  </thead>\n",
       "  <tbody>\n",
       "    <tr>\n",
       "      <th>2021-08-16</th>\n",
       "      <td>148.539993</td>\n",
       "      <td>151.190002</td>\n",
       "      <td>146.470001</td>\n",
       "      <td>151.119995</td>\n",
       "      <td>150.277893</td>\n",
       "      <td>103296000</td>\n",
       "    </tr>\n",
       "    <tr>\n",
       "      <th>2021-08-17</th>\n",
       "      <td>150.229996</td>\n",
       "      <td>151.679993</td>\n",
       "      <td>149.089996</td>\n",
       "      <td>150.190002</td>\n",
       "      <td>149.353088</td>\n",
       "      <td>92229700</td>\n",
       "    </tr>\n",
       "    <tr>\n",
       "      <th>2021-08-18</th>\n",
       "      <td>149.800003</td>\n",
       "      <td>150.720001</td>\n",
       "      <td>146.149994</td>\n",
       "      <td>146.360001</td>\n",
       "      <td>145.544449</td>\n",
       "      <td>86326000</td>\n",
       "    </tr>\n",
       "    <tr>\n",
       "      <th>2021-08-19</th>\n",
       "      <td>145.029999</td>\n",
       "      <td>148.000000</td>\n",
       "      <td>144.500000</td>\n",
       "      <td>146.699997</td>\n",
       "      <td>145.882538</td>\n",
       "      <td>86960300</td>\n",
       "    </tr>\n",
       "    <tr>\n",
       "      <th>2021-08-20</th>\n",
       "      <td>147.440002</td>\n",
       "      <td>148.500000</td>\n",
       "      <td>146.779999</td>\n",
       "      <td>148.190002</td>\n",
       "      <td>147.364227</td>\n",
       "      <td>60549600</td>\n",
       "    </tr>\n",
       "  </tbody>\n",
       "</table>\n",
       "</div>"
      ],
      "text/plain": [
       "                  Open        High         Low       Close   Adj Close  \\\n",
       "Date                                                                     \n",
       "2021-08-16  148.539993  151.190002  146.470001  151.119995  150.277893   \n",
       "2021-08-17  150.229996  151.679993  149.089996  150.190002  149.353088   \n",
       "2021-08-18  149.800003  150.720001  146.149994  146.360001  145.544449   \n",
       "2021-08-19  145.029999  148.000000  144.500000  146.699997  145.882538   \n",
       "2021-08-20  147.440002  148.500000  146.779999  148.190002  147.364227   \n",
       "\n",
       "               Volume  \n",
       "Date                   \n",
       "2021-08-16  103296000  \n",
       "2021-08-17   92229700  \n",
       "2021-08-18   86326000  \n",
       "2021-08-19   86960300  \n",
       "2021-08-20   60549600  "
      ]
     },
     "execution_count": 3,
     "metadata": {},
     "output_type": "execute_result"
    }
   ],
   "source": [
    "# Importing data from an API\n",
    "df = yf.download('AAPL', start='2021-08-15', end='2022-08-15')\n",
    "df.head()\n"
   ]
  },
  {
   "cell_type": "code",
   "execution_count": 4,
   "id": "579b5960",
   "metadata": {},
   "outputs": [
    {
     "name": "stdout",
     "output_type": "stream",
     "text": [
      "             Open        High         Low       Close   Adj Close  \\\n",
      "count  251.000000  251.000000  251.000000  251.000000  251.000000   \n",
      "mean   157.105179  159.129442  155.303426  157.320120  156.790447   \n",
      "std     12.541994   12.584989   12.376535   12.481311   12.438479   \n",
      "min    130.070007  132.389999  129.039993  130.059998  129.879593   \n",
      "25%    147.459999  149.059998  146.259995  147.894997  147.277611   \n",
      "50%    155.910004  158.229996  153.979996  156.770004  156.163788   \n",
      "75%    168.150002  170.325005  166.020004  167.529999  167.052177   \n",
      "max    182.630005  182.940002  179.119995  182.009995  181.259918   \n",
      "\n",
      "             Volume  \n",
      "count  2.510000e+02  \n",
      "mean   8.852741e+07  \n",
      "std    2.640506e+07  \n",
      "min    4.100000e+07  \n",
      "25%    6.953115e+07  \n",
      "50%    8.328130e+07  \n",
      "75%    1.011393e+08  \n",
      "max    1.954327e+08  \n"
     ]
    }
   ],
   "source": [
    "# Show some summary statistics\n",
    "print(df.describe())"
   ]
  },
  {
   "cell_type": "markdown",
   "id": "a6328eb2",
   "metadata": {},
   "source": [
    "# Step 2: Prepare the data\n"
   ]
  },
  {
   "cell_type": "code",
   "execution_count": 5,
   "id": "4b85d86a",
   "metadata": {},
   "outputs": [],
   "source": [
    "# Keep only the 'Adj Close' Value\n",
    "tsla_df = df[['Adj Close']]"
   ]
  },
  {
   "cell_type": "code",
   "execution_count": 6,
   "id": "ab0cf8ab",
   "metadata": {},
   "outputs": [
    {
     "name": "stdout",
     "output_type": "stream",
     "text": [
      "             Adj Close\n",
      "Date                  \n",
      "2021-08-16  150.277893\n",
      "2021-08-17  149.353088\n",
      "2021-08-18  145.544449\n",
      "2021-08-19  145.882538\n",
      "2021-08-20  147.364227\n",
      "...                ...\n",
      "2022-08-08  164.869995\n",
      "2022-08-09  164.919998\n",
      "2022-08-10  169.240005\n",
      "2022-08-11  168.490005\n",
      "2022-08-12  172.100006\n",
      "\n",
      "[251 rows x 1 columns]\n"
     ]
    }
   ],
   "source": [
    "# Re-inspect data\n",
    "print(tsla_df)"
   ]
  },
  {
   "cell_type": "code",
   "execution_count": 7,
   "id": "08ff0a8a",
   "metadata": {},
   "outputs": [
    {
     "name": "stdout",
     "output_type": "stream",
     "text": [
      "<class 'pandas.core.frame.DataFrame'>\n",
      "DatetimeIndex: 251 entries, 2021-08-16 to 2022-08-12\n",
      "Data columns (total 1 columns):\n",
      " #   Column     Non-Null Count  Dtype  \n",
      "---  ------     --------------  -----  \n",
      " 0   Adj Close  251 non-null    float64\n",
      "dtypes: float64(1)\n",
      "memory usage: 3.9 KB\n",
      "None\n"
     ]
    }
   ],
   "source": [
    "# Print Info\n",
    "print(tsla_df.info())"
   ]
  },
  {
   "cell_type": "code",
   "execution_count": 8,
   "id": "48c9ddbd",
   "metadata": {},
   "outputs": [
    {
     "data": {
      "text/plain": [
       "<AxesSubplot:title={'center':'Tesla stock'}, xlabel='Date'>"
      ]
     },
     "execution_count": 8,
     "metadata": {},
     "output_type": "execute_result"
    },
    {
     "data": {
      "image/png": "[encoded data removed]",
      "text/plain": [
       "<Figure size 576x432 with 1 Axes>"
      ]
     },
     "metadata": {
      "needs_background": "light"
     },
     "output_type": "display_data"
    }
   ],
   "source": [
    "# Plotting the Adj Close columns\n",
    "tsla_df.plot(figsize=(8,6), color='green', title='Tesla stock', fontsize=12, marker=\".\")\n",
    "\n",
    "#tsla_df.plot.density()"
   ]
  },
  {
   "cell_type": "markdown",
   "id": "95d3b34f",
   "metadata": {},
   "source": [
    "# Step 3: Adding Technical Indicators"
   ]
  },
  {
   "cell_type": "code",
   "execution_count": 9,
   "id": "89d99635",
   "metadata": {},
   "outputs": [
    {
     "name": "stderr",
     "output_type": "stream",
     "text": [
      "/Users/Fabiola/opt/anaconda3/envs/mlenv/lib/python3.7/site-packages/pandas_ta/core.py:426: SettingWithCopyWarning: \n",
      "A value is trying to be set on a copy of a slice from a DataFrame.\n",
      "Try using .loc[row_indexer,col_indexer] = value instead\n",
      "\n",
      "See the caveats in the documentation: https://pandas.pydata.org/pandas-docs/stable/user_guide/indexing.html#returning-a-view-versus-a-copy\n",
      "  df[ind_name] = result\n"
     ]
    },
    {
     "data": {
      "text/plain": [
       "Date\n",
       "2021-08-16           NaN\n",
       "2021-08-17           NaN\n",
       "2021-08-18           NaN\n",
       "2021-08-19           NaN\n",
       "2021-08-20           NaN\n",
       "                 ...    \n",
       "2022-08-08    161.342405\n",
       "2022-08-09    161.992877\n",
       "2022-08-10    163.310537\n",
       "2022-08-11    164.252258\n",
       "2022-08-12    165.679121\n",
       "Name: EMA_10, Length: 251, dtype: float64"
      ]
     },
     "execution_count": 9,
     "metadata": {},
     "output_type": "execute_result"
    }
   ],
   "source": [
    "import pandas_ta\n",
    "# Add EMA to dataframe by appending\n",
    "# Note: pandas_ta integrates seamlessly into\n",
    "# our existing dataframe\n",
    "tsla_df.ta.ema(close='Adj Close', length=10, append=True)"
   ]
  },
  {
   "cell_type": "code",
   "execution_count": 10,
   "id": "f9ab574c",
   "metadata": {},
   "outputs": [
    {
     "name": "stdout",
     "output_type": "stream",
     "text": [
      "[X] Ooops!!! It's True, the series 'adj_close' was not found in Adj Close, EMA_10\n"
     ]
    },
    {
     "data": {
      "text/html": [
       "<div>\n",
       "<style scoped>\n",
       "    .dataframe tbody tr th:only-of-type {\n",
       "        vertical-align: middle;\n",
       "    }\n",
       "\n",
       "    .dataframe tbody tr th {\n",
       "        vertical-align: top;\n",
       "    }\n",
       "\n",
       "    .dataframe thead th {\n",
       "        text-align: right;\n",
       "    }\n",
       "</style>\n",
       "<table border=\"1\" class=\"dataframe\">\n",
       "  <thead>\n",
       "    <tr style=\"text-align: right;\">\n",
       "      <th></th>\n",
       "      <th>Adj Close</th>\n",
       "      <th>EMA_10</th>\n",
       "    </tr>\n",
       "    <tr>\n",
       "      <th>Date</th>\n",
       "      <th></th>\n",
       "      <th></th>\n",
       "    </tr>\n",
       "  </thead>\n",
       "  <tbody>\n",
       "    <tr>\n",
       "      <th>2021-08-16</th>\n",
       "      <td>150.277893</td>\n",
       "      <td>NaN</td>\n",
       "    </tr>\n",
       "    <tr>\n",
       "      <th>2021-08-17</th>\n",
       "      <td>149.353088</td>\n",
       "      <td>NaN</td>\n",
       "    </tr>\n",
       "    <tr>\n",
       "      <th>2021-08-18</th>\n",
       "      <td>145.544449</td>\n",
       "      <td>NaN</td>\n",
       "    </tr>\n",
       "    <tr>\n",
       "      <th>2021-08-19</th>\n",
       "      <td>145.882538</td>\n",
       "      <td>NaN</td>\n",
       "    </tr>\n",
       "    <tr>\n",
       "      <th>2021-08-20</th>\n",
       "      <td>147.364227</td>\n",
       "      <td>NaN</td>\n",
       "    </tr>\n",
       "    <tr>\n",
       "      <th>...</th>\n",
       "      <td>...</td>\n",
       "      <td>...</td>\n",
       "    </tr>\n",
       "    <tr>\n",
       "      <th>2022-08-08</th>\n",
       "      <td>164.869995</td>\n",
       "      <td>161.342405</td>\n",
       "    </tr>\n",
       "    <tr>\n",
       "      <th>2022-08-09</th>\n",
       "      <td>164.919998</td>\n",
       "      <td>161.992877</td>\n",
       "    </tr>\n",
       "    <tr>\n",
       "      <th>2022-08-10</th>\n",
       "      <td>169.240005</td>\n",
       "      <td>163.310537</td>\n",
       "    </tr>\n",
       "    <tr>\n",
       "      <th>2022-08-11</th>\n",
       "      <td>168.490005</td>\n",
       "      <td>164.252258</td>\n",
       "    </tr>\n",
       "    <tr>\n",
       "      <th>2022-08-12</th>\n",
       "      <td>172.100006</td>\n",
       "      <td>165.679121</td>\n",
       "    </tr>\n",
       "  </tbody>\n",
       "</table>\n",
       "<p>251 rows × 2 columns</p>\n",
       "</div>"
      ],
      "text/plain": [
       "             Adj Close      EMA_10\n",
       "Date                              \n",
       "2021-08-16  150.277893         NaN\n",
       "2021-08-17  149.353088         NaN\n",
       "2021-08-18  145.544449         NaN\n",
       "2021-08-19  145.882538         NaN\n",
       "2021-08-20  147.364227         NaN\n",
       "...                ...         ...\n",
       "2022-08-08  164.869995  161.342405\n",
       "2022-08-09  164.919998  161.992877\n",
       "2022-08-10  169.240005  163.310537\n",
       "2022-08-11  168.490005  164.252258\n",
       "2022-08-12  172.100006  165.679121\n",
       "\n",
       "[251 rows x 2 columns]"
      ]
     },
     "execution_count": 10,
     "metadata": {},
     "output_type": "execute_result"
    }
   ],
   "source": [
    "# Adding EMA_10 technical indicator\n",
    "tsla_df.ta.ema(close='adj_close', length=10, append=True)"
   ]
  },
  {
   "cell_type": "code",
   "execution_count": 11,
   "id": "453be754",
   "metadata": {},
   "outputs": [],
   "source": [
    "#Drop the first n-rows = 9\n",
    "tsla_df = tsla_df.iloc[9:]"
   ]
  },
  {
   "cell_type": "code",
   "execution_count": 12,
   "id": "8dfa2221",
   "metadata": {},
   "outputs": [
    {
     "data": {
      "text/html": [
       "<div>\n",
       "<style scoped>\n",
       "    .dataframe tbody tr th:only-of-type {\n",
       "        vertical-align: middle;\n",
       "    }\n",
       "\n",
       "    .dataframe tbody tr th {\n",
       "        vertical-align: top;\n",
       "    }\n",
       "\n",
       "    .dataframe thead th {\n",
       "        text-align: right;\n",
       "    }\n",
       "</style>\n",
       "<table border=\"1\" class=\"dataframe\">\n",
       "  <thead>\n",
       "    <tr style=\"text-align: right;\">\n",
       "      <th></th>\n",
       "      <th>Adj Close</th>\n",
       "      <th>EMA_10</th>\n",
       "    </tr>\n",
       "    <tr>\n",
       "      <th>Date</th>\n",
       "      <th></th>\n",
       "      <th></th>\n",
       "    </tr>\n",
       "  </thead>\n",
       "  <tbody>\n",
       "    <tr>\n",
       "      <th>2021-08-27</th>\n",
       "      <td>147.771942</td>\n",
       "      <td>147.810730</td>\n",
       "    </tr>\n",
       "    <tr>\n",
       "      <th>2021-08-30</th>\n",
       "      <td>152.266769</td>\n",
       "      <td>148.620919</td>\n",
       "    </tr>\n",
       "    <tr>\n",
       "      <th>2021-08-31</th>\n",
       "      <td>150.983963</td>\n",
       "      <td>149.050563</td>\n",
       "    </tr>\n",
       "    <tr>\n",
       "      <th>2021-09-01</th>\n",
       "      <td>151.660156</td>\n",
       "      <td>149.525035</td>\n",
       "    </tr>\n",
       "    <tr>\n",
       "      <th>2021-09-02</th>\n",
       "      <td>152.793808</td>\n",
       "      <td>150.119357</td>\n",
       "    </tr>\n",
       "  </tbody>\n",
       "</table>\n",
       "</div>"
      ],
      "text/plain": [
       "             Adj Close      EMA_10\n",
       "Date                              \n",
       "2021-08-27  147.771942  147.810730\n",
       "2021-08-30  152.266769  148.620919\n",
       "2021-08-31  150.983963  149.050563\n",
       "2021-09-01  151.660156  149.525035\n",
       "2021-09-02  152.793808  150.119357"
      ]
     },
     "execution_count": 12,
     "metadata": {},
     "output_type": "execute_result"
    }
   ],
   "source": [
    "tsla_df.head()"
   ]
  },
  {
   "cell_type": "code",
   "execution_count": 13,
   "id": "daefe3c2",
   "metadata": {},
   "outputs": [
    {
     "data": {
      "text/plain": [
       "<AxesSubplot:title={'center':'Tesla stock and EMA'}, xlabel='Date'>"
      ]
     },
     "execution_count": 13,
     "metadata": {},
     "output_type": "execute_result"
    },
    {
     "data": {
      "image/png": "[encoded data removed]",
      "text/plain": [
       "<Figure size 576x432 with 1 Axes>"
      ]
     },
     "metadata": {
      "needs_background": "light"
     },
     "output_type": "display_data"
    }
   ],
   "source": [
    "tsla_df.plot(figsize=(8,6), color='Blue', title='Tesla stock and EMA', fontsize=10)"
   ]
  },
  {
   "cell_type": "markdown",
   "id": "5d224796",
   "metadata": {},
   "source": [
    "# Step 4: Test-Train Split"
   ]
  },
  {
   "cell_type": "code",
   "execution_count": 14,
   "id": "b1201c10",
   "metadata": {},
   "outputs": [],
   "source": [
    "# Split data into testing and training sets\n",
    "X_train, X_test, y_train, y_test = train_test_split(tsla_df[['Adj Close']], tsla_df[['EMA_10']], test_size=.2)\n"
   ]
  },
  {
   "cell_type": "code",
   "execution_count": 15,
   "id": "80c19359",
   "metadata": {},
   "outputs": [
    {
     "name": "stdout",
     "output_type": "stream",
     "text": [
      "        Adj Close\n",
      "count   49.000000\n",
      "mean   157.355125\n",
      "std     13.373254\n",
      "min    136.939789\n",
      "25%    146.011826\n",
      "50%    156.163788\n",
      "75%    168.490005\n",
      "max    181.259918\n"
     ]
    }
   ],
   "source": [
    "# Tests set\n",
    "print(X_test.describe())\n"
   ]
  },
  {
   "cell_type": "code",
   "execution_count": 16,
   "id": "871db810",
   "metadata": {},
   "outputs": [
    {
     "name": "stdout",
     "output_type": "stream",
     "text": [
      "        Adj Close\n",
      "count  193.000000\n",
      "mean   157.065625\n",
      "std     12.357162\n",
      "min    129.879593\n",
      "25%    147.754776\n",
      "50%    157.061829\n",
      "75%    167.181808\n",
      "max    178.959457\n"
     ]
    }
   ],
   "source": [
    "# Training set 80% data\n",
    "print(X_train.describe())"
   ]
  },
  {
   "cell_type": "code",
   "execution_count": 17,
   "id": "93887187",
   "metadata": {},
   "outputs": [
    {
     "name": "stdout",
     "output_type": "stream",
     "text": [
      "           EMA_10\n",
      "count  193.000000\n",
      "mean   156.716638\n",
      "std     11.454818\n",
      "min    136.174076\n",
      "25%    146.695481\n",
      "50%    157.688083\n",
      "75%    166.402883\n",
      "max    177.330815\n"
     ]
    }
   ],
   "source": [
    "print(y_train.describe())"
   ]
  },
  {
   "cell_type": "markdown",
   "id": "55b84858",
   "metadata": {},
   "source": [
    "# Step 5: Training the Model"
   ]
  },
  {
   "cell_type": "code",
   "execution_count": 18,
   "id": "b5acf3e8",
   "metadata": {},
   "outputs": [],
   "source": [
    "from sklearn.linear_model import LinearRegression\n",
    "# Create Regression Model\n",
    "model = LinearRegression()\n",
    "# Train the model\n",
    "model.fit(X_train, y_train)\n",
    "# Use model to make predictions\n",
    "y_pred = model.predict(X_test)"
   ]
  },
  {
   "cell_type": "code",
   "execution_count": 19,
   "id": "ebbaec59",
   "metadata": {},
   "outputs": [
    {
     "data": {
      "text/plain": [
       "array([[164.41991438],\n",
       "       [152.55356549],\n",
       "       [142.19277684],\n",
       "       [169.22165839],\n",
       "       [160.77233572],\n",
       "       [152.02732031],\n",
       "       [165.26765161],\n",
       "       [148.97344363],\n",
       "       [144.07341336],\n",
       "       [172.37502592]])"
      ]
     },
     "execution_count": 19,
     "metadata": {},
     "output_type": "execute_result"
    }
   ],
   "source": [
    "y_pred[:10]"
   ]
  },
  {
   "cell_type": "code",
   "execution_count": 20,
   "id": "b9df428f",
   "metadata": {},
   "outputs": [
    {
     "data": {
      "text/html": [
       "<div>\n",
       "<style scoped>\n",
       "    .dataframe tbody tr th:only-of-type {\n",
       "        vertical-align: middle;\n",
       "    }\n",
       "\n",
       "    .dataframe tbody tr th {\n",
       "        vertical-align: top;\n",
       "    }\n",
       "\n",
       "    .dataframe thead th {\n",
       "        text-align: right;\n",
       "    }\n",
       "</style>\n",
       "<table border=\"1\" class=\"dataframe\">\n",
       "  <thead>\n",
       "    <tr style=\"text-align: right;\">\n",
       "      <th></th>\n",
       "      <th>y_predict</th>\n",
       "    </tr>\n",
       "  </thead>\n",
       "  <tbody>\n",
       "    <tr>\n",
       "      <th>0</th>\n",
       "      <td>164.419914</td>\n",
       "    </tr>\n",
       "    <tr>\n",
       "      <th>1</th>\n",
       "      <td>152.553565</td>\n",
       "    </tr>\n",
       "    <tr>\n",
       "      <th>2</th>\n",
       "      <td>142.192777</td>\n",
       "    </tr>\n",
       "    <tr>\n",
       "      <th>3</th>\n",
       "      <td>169.221658</td>\n",
       "    </tr>\n",
       "    <tr>\n",
       "      <th>4</th>\n",
       "      <td>160.772336</td>\n",
       "    </tr>\n",
       "  </tbody>\n",
       "</table>\n",
       "</div>"
      ],
      "text/plain": [
       "    y_predict\n",
       "0  164.419914\n",
       "1  152.553565\n",
       "2  142.192777\n",
       "3  169.221658\n",
       "4  160.772336"
      ]
     },
     "execution_count": 20,
     "metadata": {},
     "output_type": "execute_result"
    }
   ],
   "source": [
    "# Converting y_pred array into a data frame: y_pred_df\n",
    "y_pred_df = y_pred\n",
    "y_pred_df = pd.DataFrame(y_pred_df, columns=['y_predict'])\n",
    "y_pred_df.head()"
   ]
  },
  {
   "cell_type": "code",
   "execution_count": 21,
   "id": "5b71fd9e",
   "metadata": {},
   "outputs": [
    {
     "data": {
      "text/plain": [
       "49"
      ]
     },
     "execution_count": 21,
     "metadata": {},
     "output_type": "execute_result"
    }
   ],
   "source": [
    "len(y_pred_df)"
   ]
  },
  {
   "cell_type": "markdown",
   "id": "ffd57b1a",
   "metadata": {},
   "source": [
    "# Step 6: Validating the Fit"
   ]
  },
  {
   "cell_type": "code",
   "execution_count": 22,
   "id": "f80cee4f",
   "metadata": {},
   "outputs": [
    {
     "name": "stdout",
     "output_type": "stream",
     "text": [
      "Model Coefficients: [[0.86751362]]\n",
      "Mean Absolute Error: 2.8139699629534674\n",
      "Coefficient of Determination: 0.9267564259269709\n"
     ]
    }
   ],
   "source": [
    "# Homework -To plot the confidence intervals\n",
    "from sklearn.metrics import mean_squared_error, r2_score, mean_absolute_error\n",
    "# Printout relevant metrics\n",
    "print(\"Model Coefficients:\", model.coef_)\n",
    "print(\"Mean Absolute Error:\", mean_absolute_error(y_test, y_pred))\n",
    "print(\"Coefficient of Determination:\", r2_score(y_test, y_pred))\n"
   ]
  },
  {
   "cell_type": "markdown",
   "id": "efab0037",
   "metadata": {},
   "source": [
    "The MAE is the arithmetic mean of the absolute errors of our model, calculated by summing the absolute difference between observed values of X and Y and dividing by the total number of observations.\n",
    "\n",
    "For now, let’s just recognize that a lower MAE value is better, and the closer our coefficient of the correlation value is to 1.0 the better. The metrics here suggest that our model fits our data well, though the MAE is slightly high."
   ]
  },
  {
   "cell_type": "markdown",
   "id": "9bcc2a92",
   "metadata": {},
   "source": [
    "### End"
   ]
  },
  {
   "cell_type": "code",
   "execution_count": 23,
   "id": "549c348b",
   "metadata": {},
   "outputs": [],
   "source": [
    "# Extra code: to visualize real values Vs predicted values\n",
    "# Predicted values vs Real values"
   ]
  },
  {
   "cell_type": "code",
   "execution_count": 24,
   "id": "612a347a",
   "metadata": {},
   "outputs": [
    {
     "data": {
      "text/html": [
       "<div>\n",
       "<style scoped>\n",
       "    .dataframe tbody tr th:only-of-type {\n",
       "        vertical-align: middle;\n",
       "    }\n",
       "\n",
       "    .dataframe tbody tr th {\n",
       "        vertical-align: top;\n",
       "    }\n",
       "\n",
       "    .dataframe thead th {\n",
       "        text-align: right;\n",
       "    }\n",
       "</style>\n",
       "<table border=\"1\" class=\"dataframe\">\n",
       "  <thead>\n",
       "    <tr style=\"text-align: right;\">\n",
       "      <th></th>\n",
       "      <th>EMA_10</th>\n",
       "    </tr>\n",
       "    <tr>\n",
       "      <th>Date</th>\n",
       "      <th></th>\n",
       "    </tr>\n",
       "  </thead>\n",
       "  <tbody>\n",
       "    <tr>\n",
       "      <th>2022-04-21</th>\n",
       "      <td>167.530515</td>\n",
       "    </tr>\n",
       "    <tr>\n",
       "      <th>2021-08-30</th>\n",
       "      <td>148.620919</td>\n",
       "    </tr>\n",
       "  </tbody>\n",
       "</table>\n",
       "</div>"
      ],
      "text/plain": [
       "                EMA_10\n",
       "Date                  \n",
       "2022-04-21  167.530515\n",
       "2021-08-30  148.620919"
      ]
     },
     "execution_count": 24,
     "metadata": {},
     "output_type": "execute_result"
    }
   ],
   "source": [
    "# Visualizing data\n",
    "y_test.head(2)\n",
    "#y_pred"
   ]
  },
  {
   "cell_type": "code",
   "execution_count": 25,
   "id": "ded3e0ca",
   "metadata": {},
   "outputs": [
    {
     "data": {
      "text/html": [
       "<div>\n",
       "<style scoped>\n",
       "    .dataframe tbody tr th:only-of-type {\n",
       "        vertical-align: middle;\n",
       "    }\n",
       "\n",
       "    .dataframe tbody tr th {\n",
       "        vertical-align: top;\n",
       "    }\n",
       "\n",
       "    .dataframe thead th {\n",
       "        text-align: right;\n",
       "    }\n",
       "</style>\n",
       "<table border=\"1\" class=\"dataframe\">\n",
       "  <thead>\n",
       "    <tr style=\"text-align: right;\">\n",
       "      <th></th>\n",
       "      <th>y_predict</th>\n",
       "    </tr>\n",
       "    <tr>\n",
       "      <th>Date</th>\n",
       "      <th></th>\n",
       "    </tr>\n",
       "  </thead>\n",
       "  <tbody>\n",
       "    <tr>\n",
       "      <th>2022-04-21</th>\n",
       "      <td>164.419914</td>\n",
       "    </tr>\n",
       "    <tr>\n",
       "      <th>2021-08-30</th>\n",
       "      <td>152.553565</td>\n",
       "    </tr>\n",
       "    <tr>\n",
       "      <th>2021-10-05</th>\n",
       "      <td>142.192777</td>\n",
       "    </tr>\n",
       "    <tr>\n",
       "      <th>2022-01-10</th>\n",
       "      <td>169.221658</td>\n",
       "    </tr>\n",
       "    <tr>\n",
       "      <th>2022-01-21</th>\n",
       "      <td>160.772336</td>\n",
       "    </tr>\n",
       "  </tbody>\n",
       "</table>\n",
       "</div>"
      ],
      "text/plain": [
       "             y_predict\n",
       "Date                  \n",
       "2022-04-21  164.419914\n",
       "2021-08-30  152.553565\n",
       "2021-10-05  142.192777\n",
       "2022-01-10  169.221658\n",
       "2022-01-21  160.772336"
      ]
     },
     "execution_count": 25,
     "metadata": {},
     "output_type": "execute_result"
    }
   ],
   "source": [
    "# Assigning indexes\n",
    "y_pred_df2 = y_pred_df.copy()\n",
    "y_pred_df2.index= y_test.index\n",
    "y_pred_df2.head()"
   ]
  },
  {
   "cell_type": "code",
   "execution_count": 26,
   "id": "41711e6c",
   "metadata": {},
   "outputs": [
    {
     "data": {
      "text/html": [
       "<div>\n",
       "<style scoped>\n",
       "    .dataframe tbody tr th:only-of-type {\n",
       "        vertical-align: middle;\n",
       "    }\n",
       "\n",
       "    .dataframe tbody tr th {\n",
       "        vertical-align: top;\n",
       "    }\n",
       "\n",
       "    .dataframe thead th {\n",
       "        text-align: right;\n",
       "    }\n",
       "</style>\n",
       "<table border=\"1\" class=\"dataframe\">\n",
       "  <thead>\n",
       "    <tr style=\"text-align: right;\">\n",
       "      <th></th>\n",
       "      <th>EMA_10</th>\n",
       "      <th>y_predict</th>\n",
       "    </tr>\n",
       "    <tr>\n",
       "      <th>Date</th>\n",
       "      <th></th>\n",
       "      <th></th>\n",
       "    </tr>\n",
       "  </thead>\n",
       "  <tbody>\n",
       "    <tr>\n",
       "      <th>2022-04-21</th>\n",
       "      <td>167.530515</td>\n",
       "      <td>164.419914</td>\n",
       "    </tr>\n",
       "    <tr>\n",
       "      <th>2021-08-30</th>\n",
       "      <td>148.620919</td>\n",
       "      <td>152.553565</td>\n",
       "    </tr>\n",
       "    <tr>\n",
       "      <th>2021-10-05</th>\n",
       "      <td>142.143619</td>\n",
       "      <td>142.192777</td>\n",
       "    </tr>\n",
       "    <tr>\n",
       "      <th>2022-01-10</th>\n",
       "      <td>174.346871</td>\n",
       "      <td>169.221658</td>\n",
       "    </tr>\n",
       "    <tr>\n",
       "      <th>2022-01-21</th>\n",
       "      <td>168.569233</td>\n",
       "      <td>160.772336</td>\n",
       "    </tr>\n",
       "  </tbody>\n",
       "</table>\n",
       "</div>"
      ],
      "text/plain": [
       "                EMA_10   y_predict\n",
       "Date                              \n",
       "2022-04-21  167.530515  164.419914\n",
       "2021-08-30  148.620919  152.553565\n",
       "2021-10-05  142.143619  142.192777\n",
       "2022-01-10  174.346871  169.221658\n",
       "2022-01-21  168.569233  160.772336"
      ]
     },
     "execution_count": 26,
     "metadata": {},
     "output_type": "execute_result"
    }
   ],
   "source": [
    "# Concating y_test and y_pred_fd2 to compare real values Vs predicted values\n",
    "final_df = pd.concat([y_test,y_pred_df2],axis=1)\n",
    "final_df.head()"
   ]
  },
  {
   "cell_type": "code",
   "execution_count": 27,
   "id": "79f277e5",
   "metadata": {},
   "outputs": [
    {
     "data": {
      "text/plain": [
       "EMA_10       0\n",
       "y_predict    0\n",
       "dtype: int64"
      ]
     },
     "execution_count": 27,
     "metadata": {},
     "output_type": "execute_result"
    }
   ],
   "source": [
    "# Checkinh if there are null values\n",
    "final_df.isnull().sum()"
   ]
  },
  {
   "cell_type": "code",
   "execution_count": 28,
   "id": "ad5914ac",
   "metadata": {},
   "outputs": [
    {
     "data": {
      "text/plain": [
       "<AxesSubplot:title={'center':'X_test'}, xlabel='Date'>"
      ]
     },
     "execution_count": 28,
     "metadata": {},
     "output_type": "execute_result"
    },
    {
     "data": {
      "image/png": "[encoded data removed]",
      "text/plain": [
       "<Figure size 576x432 with 1 Axes>"
      ]
     },
     "metadata": {
      "needs_background": "light"
     },
     "output_type": "display_data"
    }
   ],
   "source": [
    "# Comparision of X_test vs y_predict\n",
    "final_df.plot(figsize=(8,6), color='Blue', title='X_test', fontsize=10)"
   ]
  },
  {
   "cell_type": "code",
   "execution_count": null,
   "id": "df0aa5e0",
   "metadata": {},
   "outputs": [],
   "source": []
  }
 ],
 "metadata": {
  "kernelspec": {
   "display_name": "mlenv",
   "language": "python",
   "name": "mlenv"
  },
  "language_info": {
   "codemirror_mode": {
    "name": "ipython",
    "version": 3
   },
   "file_extension": ".py",
   "mimetype": "text/x-python",
   "name": "python",
   "nbconvert_exporter": "python",
   "pygments_lexer": "ipython3",
   "version": "3.7.13"
  }
 },
 "nbformat": 4,
 "nbformat_minor": 5
}
